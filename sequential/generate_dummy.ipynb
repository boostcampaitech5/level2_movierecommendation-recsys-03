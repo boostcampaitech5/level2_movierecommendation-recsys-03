{
 "cells": [
  {
   "cell_type": "code",
   "execution_count": 6,
   "metadata": {},
   "outputs": [],
   "source": [
    "import pandas as pd"
   ]
  },
  {
   "cell_type": "code",
   "execution_count": 7,
   "metadata": {},
   "outputs": [],
   "source": [
    "train_ratings = pd.read_csv('../data/train/train_ratings.csv')\n",
    "users = train_ratings['user'].unique()\n",
    "\n",
    "users = users[:1000]\n",
    "\n",
    "dummys = []\n",
    "for user in users:\n",
    "    dummys.append(train_ratings[train_ratings['user'] == user][:100])\n",
    "dummy_r = pd.concat(dummys)\n",
    "dummy_r.to_csv('../data/dummy/train_ratings.csv', index=False)\n",
    "\n",
    "items = dummy_r['item'].unique()"
   ]
  },
  {
   "cell_type": "code",
   "execution_count": null,
   "metadata": {},
   "outputs": [],
   "source": [
    "sub = pd.read_csv('../data/eval/sample_submission.csv')\n",
    "\n",
    "dummys = []\n",
    "for user in users:\n",
    "    r_i = dummy_r[dummy_r['user'] == user]['item']\n",
    "    \n",
    "    df = sub[sub['user'] == user][:1000]\n",
    "    tmp_items = list(set(items) - set(r_i))\n",
    "    tmp_items = tmp_items[:len(df['item'])]\n",
    "    df['item'] = tmp_items\n",
    "    dummys.append(df)\n",
    "dummy = pd.concat(dummys)\n",
    "dummy.to_csv('../data/dummy/sample_submission.csv', index=False)"
   ]
  },
  {
   "cell_type": "code",
   "execution_count": 19,
   "metadata": {},
   "outputs": [],
   "source": [
    "import json\n",
    "\n",
    "with open(\"../data/train/Ml_item2attributes.json\") as f:\n",
    "    item2attrs = json.load(f)\n",
    "\n",
    "new_item2attrs = {}\n",
    "for item_id, attrs in item2attrs.items():\n",
    "    if int(item_id) in items:\n",
    "        new_item2attrs[item_id] = attrs\n",
    "\n",
    "with open(\"../data/dummy/Ml_item2attributes.json\", 'w') as f:    \n",
    "    json.dump(new_item2attrs, f)"
   ]
  },
  {
   "cell_type": "code",
   "execution_count": null,
   "metadata": {},
   "outputs": [],
   "source": []
  }
 ],
 "metadata": {
  "kernelspec": {
   "display_name": "base",
   "language": "python",
   "name": "python3"
  },
  "language_info": {
   "codemirror_mode": {
    "name": "ipython",
    "version": 3
   },
   "file_extension": ".py",
   "mimetype": "text/x-python",
   "name": "python",
   "nbconvert_exporter": "python",
   "pygments_lexer": "ipython3",
   "version": "3.10.11"
  },
  "orig_nbformat": 4
 },
 "nbformat": 4,
 "nbformat_minor": 2
}

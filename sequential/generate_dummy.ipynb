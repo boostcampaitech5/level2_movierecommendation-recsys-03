{
 "cells": [
  {
   "cell_type": "code",
   "execution_count": 5,
   "metadata": {},
   "outputs": [],
   "source": [
    "import pandas as pd\n",
    "import json\n",
    "import os"
   ]
  },
  {
   "cell_type": "code",
   "execution_count": 6,
   "metadata": {},
   "outputs": [],
   "source": [
    "BASE_PATH = \"../data\"\n",
    "TRAIN_PATH = os.path.join(BASE_PATH, \"train\")\n",
    "EVAL_PATH = os.path.join(BASE_PATH, \"eval\")\n",
    "DUMMY_PATH = os.path.join(BASE_PATH, \"dummy\")"
   ]
  },
  {
   "cell_type": "code",
   "execution_count": 7,
   "metadata": {},
   "outputs": [],
   "source": [
    "train_ratings_path = os.path.join(TRAIN_PATH, 'train_ratings.csv')\n",
    "train_ratings = pd.read_csv(train_ratings_path)\n",
    "users = train_ratings['user'].unique()\n",
    "\n",
    "users = users[:10]\n",
    "\n",
    "dummys = []\n",
    "for user in users:\n",
    "    dummys.append(train_ratings[train_ratings['user'] == user][:100])\n",
    "dummy_r = pd.concat(dummys)\n",
    "\n",
    "dummy_train_ratings_path = os.path.join(DUMMY_PATH, 'train_ratings.csv')\n",
    "dummy_r.to_csv(dummy_train_ratings_path, index=False)\n",
    "\n",
    "items = dummy_r['item'].unique()"
   ]
  },
  {
   "cell_type": "code",
   "execution_count": 8,
   "metadata": {},
   "outputs": [],
   "source": [
    "sub_path = os.path.join(EVAL_PATH, 'sample_submission.csv')\n",
    "sub = pd.read_csv(sub_path)\n",
    "\n",
    "dummys = []\n",
    "for user in users:\n",
    "    r_i = dummy_r[dummy_r['user'] == user]['item']\n",
    "    \n",
    "    df = sub[sub['user'] == user][:10]\n",
    "    tmp_items = list(set(items) - set(r_i))\n",
    "    tmp_items = tmp_items[:len(df['item'])]\n",
    "    df['item'] = tmp_items\n",
    "    dummys.append(df)\n",
    "dummy_s = pd.concat(dummys)\n",
    "\n",
    "dummy_s_path = os.path.join(DUMMY_PATH, 'sample_submission.csv')\n",
    "dummy_s.to_csv(dummy_s_path, index=False)"
   ]
  },
  {
   "cell_type": "code",
   "execution_count": 9,
   "metadata": {},
   "outputs": [],
   "source": [
    "def create_attr_dummy(file_name):\n",
    "    attr_path = os.path.join(TRAIN_PATH, file_name)\n",
    "    with open(attr_path) as f:\n",
    "        item2attrs = json.load(f)\n",
    "    \n",
    "    new_item2attrs = {}\n",
    "    for item_id, attrs in item2attrs.items():\n",
    "        if int(item_id) in items:\n",
    "            new_item2attrs[item_id] = attrs\n",
    "\n",
    "    dummy_attr_path = os.path.join(DUMMY_PATH, file_name)\n",
    "    with open(dummy_attr_path, 'w') as f:    \n",
    "        json.dump(new_item2attrs, f)\n",
    "    "
   ]
  },
  {
   "cell_type": "code",
   "execution_count": 10,
   "metadata": {},
   "outputs": [],
   "source": [
    "for file_name in os.listdir(TRAIN_PATH):\n",
    "    if not file_name.endswith('.json'):\n",
    "        continue\n",
    "    \n",
    "    create_attr_dummy(file_name)"
   ]
  }
 ],
 "metadata": {
  "kernelspec": {
   "display_name": "base",
   "language": "python",
   "name": "python3"
  },
  "language_info": {
   "codemirror_mode": {
    "name": "ipython",
    "version": 3
   },
   "file_extension": ".py",
   "mimetype": "text/x-python",
   "name": "python",
   "nbconvert_exporter": "python",
   "pygments_lexer": "ipython3",
   "version": "3.10.11"
  },
  "orig_nbformat": 4
 },
 "nbformat": 4,
 "nbformat_minor": 2
}
